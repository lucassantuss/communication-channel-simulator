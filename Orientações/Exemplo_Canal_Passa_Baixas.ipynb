{
 "cells": [
  {
   "cell_type": "markdown",
   "metadata": {},
   "source": [
    "# Simulação da Transmissão de uma Onda Dente-de-Serra por Canais Passa-Baixas"
   ]
  },
  {
   "cell_type": "markdown",
   "metadata": {},
   "source": [
    "O objetivo deste notebook é simular o que ocorre quando tentamos transmitir um certo sinal por canais com características de um passa-baixas. No nosso exemplo, vamos considerar, para fins de ilustração, um sinal emitido com a forma de uma onda dente-de-serra. A partir daí, vamos tentar entender como seria o sinal efetivamente recebido na outra ponta dos nossos canais, devido única e exclusivamente aos efeitos deles sobre o sinal enviado."
   ]
  },
  {
   "cell_type": "markdown",
   "metadata": {},
   "source": [
    "Primeiramente, vamos importar as bibliotecas que serão úteis para nós:"
   ]
  },
  {
   "cell_type": "code",
   "execution_count": null,
   "metadata": {},
   "outputs": [],
   "source": [
    "#Importação das bibliotecas\n",
    "import numpy as np\n",
    "import matplotlib.pyplot as plt\n",
    "from matplotlib.pyplot import figure\n",
    "import matplotlib as mpl\n",
    "from scipy import signal\n",
    "mpl.rcParams['figure.max_open_warning'] = False"
   ]
  },
  {
   "cell_type": "markdown",
   "metadata": {},
   "source": [
    "## Geração do Sinal Emitido"
   ]
  },
  {
   "cell_type": "markdown",
   "metadata": {},
   "source": [
    "Agora, vamos gerar um sinal com a forma de uma onda dente-de-serra, mais uma componente constante (DC). Para isso, vamos gerar um vetor t com instantes de tempo linearmente espaçados entre os instantes $t_i$ (instante de tempo inicial da nossa simulação) e $t_f$ (instante de tempo final da nossa simulação). Em seguida, utilizando o módulo signal da biblioteca scipy, vamos gerar o nosso sinal que será aplicado na entrada do canal de comunicações, considerando uma frequência fundamental de $f_0 = 1$ Hz:"
   ]
  },
  {
   "cell_type": "code",
   "execution_count": null,
   "metadata": {},
   "outputs": [],
   "source": [
    "t_i = -3\n",
    "t_f = 3\n",
    "passo = 0.00001\n",
    "t = -np.arange(t_i,t_f,passo)\n",
    "\n",
    "dc = 0.5\n",
    "\n",
    "f0 = 1\n",
    "\n",
    "x = dc + 0.5*signal.sawtooth(2*np.pi*f0*t)"
   ]
  },
  {
   "cell_type": "markdown",
   "metadata": {},
   "source": [
    "Na célula abaixo, estamos gerando um gráfico do sinal emitido ao longo do tempo:"
   ]
  },
  {
   "cell_type": "code",
   "execution_count": null,
   "metadata": {},
   "outputs": [],
   "source": [
    "fig = plt.figure(1)\n",
    "ax = fig.add_subplot(1, 1, 1)\n",
    "plt.plot(t, x,'-b')\n",
    "plt.title('Sinal Emitido')\n",
    "plt.xlabel('t (s)')\n",
    "plt.grid()"
   ]
  },
  {
   "cell_type": "markdown",
   "metadata": {},
   "source": [
    "## Canais de Comunicações"
   ]
  },
  {
   "cell_type": "markdown",
   "metadata": {},
   "source": [
    "A seguir, vamos especificar o comportamento dos nossos canais de comunicações considerados nesta simulação. Nela, vamos simular os efeitos um canal passa-baixas de primeira ordem, cujo módulo da resposta em frequência será dado por $$H(f) = \\dfrac{1}{\\sqrt{1 + \\left(\\dfrac{f}{f_c}\\right)^2}},$$ em que $f_c$ é a frequência de corte do nosso canal. Já a fase da resposta em frequência do nosso canal será dada por $$\\varphi(f) = -\\arctan\\left(\\dfrac{f}{f_c}\\right).$$ Note que, quanto maior o valor da frequência $f$, menor o valor de $H(f)$, o que significa que frequências muito altas serão fortemente atenuadas, pois suas amplitudes serão multiplicadas por um número próximo de zero. Em contrapartida, para frequências baixas, o valor de $H(f)$ será próximo de 1, o que indica que a amplitude dessas ondas praticamente não será afetada pelo canal."
   ]
  },
  {
   "cell_type": "markdown",
   "metadata": {},
   "source": [
    "Para facilitar, vamos implementar o cálculo de $H(f)$ por meio de uma função, como ilustrado abaixo:"
   ]
  },
  {
   "cell_type": "code",
   "execution_count": null,
   "metadata": {},
   "outputs": [],
   "source": [
    "def modulo_resposta_em_frequencia(f,f_c):\n",
    "    H = 1./np.sqrt(1+(f/f_c)**2)\n",
    "    return H"
   ]
  },
  {
   "cell_type": "markdown",
   "metadata": {},
   "source": [
    "Similarmente, podemos implementar o cálculo de $\\varphi(f)$ como mostrado a seguir:"
   ]
  },
  {
   "cell_type": "code",
   "execution_count": null,
   "metadata": {},
   "outputs": [],
   "source": [
    "def fase_resposta_em_frequencia(f,f_c):\n",
    "    Phi = np.arctan(-f/f_c)\n",
    "    return Phi"
   ]
  },
  {
   "cell_type": "markdown",
   "metadata": {},
   "source": [
    "Vamos agora gerar os gráficos da resposta em frequência dos canais de comunicações. Para isso, vamos criar um vetor de frequências, calcular o módulo e a fase da resposta em frequência para cada ponto, e plotar os resultados."
   ]
  },
  {
   "cell_type": "code",
   "execution_count": null,
   "metadata": {},
   "outputs": [],
   "source": [
    "f_final = 50\n",
    "f = np.arange(0,f_final,0.001)"
   ]
  },
  {
   "cell_type": "markdown",
   "metadata": {},
   "source": [
    "A resposta em frequência vai variar com o valor da frequência de corte selecionada. Vamos adotar, por exemplo, $f_c = 2$ Hz e analisar os gráficos."
   ]
  },
  {
   "cell_type": "code",
   "execution_count": null,
   "metadata": {},
   "outputs": [],
   "source": [
    "fc = 2\n",
    "\n",
    "\n",
    "fig = plt.figure(figsize=(12,10), dpi= 300)\n",
    "ax1 = fig.add_subplot(2, 1, 1)\n",
    "#Gráfico do Módulo da Resposta em Frequência:\n",
    "plt.plot(f, modulo_resposta_em_frequencia(f,fc),'-b')\n",
    "plt.title('Modulo da Resposta em Frequência')\n",
    "plt.xlabel(r'$f$')\n",
    "plt.axis([0, f_final, 0.0, 1.1])\n",
    "plt.grid()\n",
    "#Gráfico da Fase da Resposta em Frequência (em graus):\n",
    "ax2 = fig.add_subplot(2, 1, 2)\n",
    "plt.plot(f, (180/np.pi)*fase_resposta_em_frequencia(f,fc),'-b')\n",
    "plt.title('Fase da Resposta em Frequência')\n",
    "plt.xlabel(r'$f$')\n",
    "plt.grid()\n",
    "fig.subplots_adjust(hspace=0.7)"
   ]
  },
  {
   "cell_type": "markdown",
   "metadata": {},
   "source": [
    "**Note que este NÃO é um canal passa-baixas IDEAL!** O módulo da resposta em frequência não é 1 para frequências menores que 2 Hz, nem 0 para frequências acima desse valor. Lembre-se que, na prática, canais passa-baixa ou passa-faixa *ideais* não existem."
   ]
  },
  {
   "cell_type": "markdown",
   "metadata": {},
   "source": [
    "Se aumentarmos o valor da frequência de corte para $f_c = 20$ Hz e plotarmos novamente os gráficos, obteremos:"
   ]
  },
  {
   "cell_type": "code",
   "execution_count": null,
   "metadata": {},
   "outputs": [],
   "source": [
    "fc = 20\n",
    "\n",
    "\n",
    "fig = plt.figure(figsize=(12,10), dpi= 300)\n",
    "ax1 = fig.add_subplot(2, 1, 1)\n",
    "#Gráfico do Módulo da Resposta em Frequência:\n",
    "plt.plot(f, modulo_resposta_em_frequencia(f,fc),'-b')\n",
    "plt.title('Modulo da Resposta em Frequência')\n",
    "plt.xlabel(r'$f$')\n",
    "plt.axis([0, f_final, 0.0, 1.1])\n",
    "plt.grid()\n",
    "#Gráfico da Fase da Resposta em Frequência (em graus):\n",
    "ax2 = fig.add_subplot(2, 1, 2)\n",
    "plt.plot(f, (180/np.pi)*fase_resposta_em_frequencia(f,fc),'-b')\n",
    "plt.title('Fase da Resposta em Frequência')\n",
    "plt.xlabel(r'$f$')\n",
    "plt.grid()\n",
    "fig.subplots_adjust(hspace=0.7)"
   ]
  },
  {
   "cell_type": "markdown",
   "metadata": {},
   "source": [
    "Comparando os gráficos obtidos com $f_c = 2$ e com $f_c = 20$, vemos que, no segundo caso, a atenuação das frequências mais altas no gráfico é bem menos intensa do que quando tínhamos adotado $f_c = 2$."
   ]
  },
  {
   "cell_type": "markdown",
   "metadata": {},
   "source": [
    "### Diante disso, a pergunta que fica é: se tentarmos transmitir o nosso sinal em formato de dente-de-serra plotado anteriormente por esses canais, como ficará o sinal recebido na outra ponta?"
   ]
  },
  {
   "cell_type": "markdown",
   "metadata": {},
   "source": [
    "Para responder a essa pergunta, vamos recorrer à Análise de Fourier. De posse da resposta em frequência dos canais, conseguimos saber como eles reagem à aplicação de ondas senoidais de diferentes frequências. Precisamos agora entender quais ondas senoidais fazem parte da composição do nosso sinal, e com que amplitudes e fases."
   ]
  },
  {
   "cell_type": "markdown",
   "metadata": {},
   "source": [
    "Como o sinal é periódico, sabemos que ele pode ser decomposto por meio da Série de Fourier, em que aparecerão uma componente constante e ondas cujas frequências são múltiplas inteiras da frequência fundamental $f_0$, ou seja, ondas com frequência $f_n = n \\cdot f_0$, com $n = 1, 2, 3, \\cdots$. Para essa a forma de onda do sinal plotado anteriormente, é possível obter: $$a_0 = \\dfrac{1}{2},\\quad A_n = \\dfrac{1}{\\pi n}\\quad \\text{e}\\quad \\phi_n = 90^{\\circ} \\ \\text{para qualquer}\\ n\\ \\text{inteiro}.$$ Para verificar isso, vamos comparar o sinal com a sua decomposição até a $n$-ésima harmônica, com $n$ indo de $1$ até $50$ "
   ]
  },
  {
   "cell_type": "code",
   "execution_count": null,
   "metadata": {},
   "outputs": [],
   "source": [
    "a0 = 0.5\n",
    "\n",
    "x_fourier = a0*np.ones(len(t))\n",
    "\n",
    "N = 50\n",
    "\n",
    "vetor_An = np.zeros(N)\n",
    "vetor_phi_n = np.zeros(N)\n",
    "\n",
    "for n in range(1,N+1):\n",
    "    An = 1/(np.pi*n)\n",
    "    phi_n = np.pi/2\n",
    "    vetor_An[n-1] = An\n",
    "    vetor_phi_n[n-1] = phi_n\n",
    "    x_fourier = x_fourier + An*np.cos(2*np.pi*n*f0*t + phi_n)\n",
    "    fig = plt.figure()\n",
    "    ax = fig.add_subplot(1, 1, 1)\n",
    "    plt.plot(t, x,'-b')\n",
    "    plt.plot(t, x_fourier,'-r')\n",
    "    plt.title('Sinal Transmitido')\n",
    "    plt.xlabel('t (s)')\n",
    "    plt.grid()\n",
    "\n",
    "\n"
   ]
  },
  {
   "cell_type": "markdown",
   "metadata": {},
   "source": [
    "Podemos, a partir daí, analisar o espectro do sinal de entrada. Fazendo o gráfico da amplitude e da fase de cada componente do nosso sinal, obtemos:"
   ]
  },
  {
   "cell_type": "code",
   "execution_count": null,
   "metadata": {},
   "outputs": [],
   "source": [
    "f1 = np.arange(f_final+1)\n",
    "\n",
    "fig = plt.figure(figsize=(6,6), dpi= 300)\n",
    "ax1 = fig.add_subplot(2, 1, 1)\n",
    "(markerline, stemlines, baseline) = ax1.stem(f1, np.concatenate((np.asarray([a0]), vetor_An)),'-b', markerfmt=\" \", use_line_collection = True)\n",
    "plt.setp(baseline, visible=False) \n",
    "plt.ylabel('Amplitude')\n",
    "plt.xlabel('f (Hz)')\n",
    "plt.grid()\n",
    "ax2 = fig.add_subplot(2, 1, 2)\n",
    "(markerline, stemlines, baseline) = ax2.stem(f1, (180/np.pi)*np.concatenate((np.asarray([0]), vetor_phi_n)),'-b', markerfmt=\" \", use_line_collection = True)\n",
    "plt.setp(baseline, visible=False) \n",
    "plt.ylabel('Fase ($^\\circ$)')\n",
    "plt.xlabel('f (Hz)')\n",
    "plt.grid()\n",
    "fig.subplots_adjust(hspace=0.7)"
   ]
  },
  {
   "cell_type": "markdown",
   "metadata": {},
   "source": [
    "Você deve ter observado que, quanto mais harmônicas somamos, mais a representação do nosso sinal por meio da Série de Fourier se aproxima da forma do sinal original. Agora, podemos estudar o efeito dos canais sobre cada componente. Por exemplo, no gráfico a seguir, estamos plotando o sinal de entrada em azul escuro e, separadamente:\n",
    "\n",
    "- A componente constante $a_0$, em vermelho\n",
    "- A onda senoidal com a frequência fundamental $f_0$, ou seja, $A_1 \\cos(2\\pi f_0t + \\phi_1)$, em preto\n",
    "- A segunda harmônica, $A_2 \\cos(4\\pi f_0t + \\phi_2)$, em magenta\n",
    "- A terceira harmônica, $A_3 \\cos(6\\pi f_0t + \\phi_3)$, em azul claro"
   ]
  },
  {
   "cell_type": "code",
   "execution_count": null,
   "metadata": {},
   "outputs": [],
   "source": [
    "fig = plt.figure(figsize=(6,4), dpi= 300)\n",
    "plt.clf()\n",
    "ax = fig.add_subplot(1, 1, 1)\n",
    "plot1, = plt.plot(t, x,'-b')\n",
    "plot2, = plt.plot(t, a0*np.ones(len(t)),'-r')\n",
    "plot3, = plt.plot(t, vetor_An[0]*np.cos(2*np.pi*1*f0*t + vetor_phi_n[0]),'-k')\n",
    "plot4, = plt.plot(t, vetor_An[1]*np.cos(2*np.pi*2*f0*t + vetor_phi_n[1]),'-m')\n",
    "plot5, = plt.plot(t, vetor_An[2]*np.cos(2*np.pi*3*f0*t + vetor_phi_n[2]),'-c')\n",
    "plt.title('Sinal Transmitido')\n",
    "plt.legend([plot1,plot2,plot3,plot4,plot5],[\"Sinal\", \"Componente DC\", \"Fundamental\", \"2ª Harmônica\", \"3ª Harmônica\"], loc = 'upper left')\n",
    "plt.xlabel('t (s)')\n",
    "plt.grid()"
   ]
  },
  {
   "cell_type": "markdown",
   "metadata": {},
   "source": [
    "O que acontece quando tentamos transmitir cada uma dessas componentes pelo canal de comunicação? Neste ponto, é importante lembrar que:\n",
    "\n",
    "- A amplitude de cada componente senoidal do nosso sinal será **multiplicada** pelo módulo da resposta em frequência do canal\n",
    "- A fase de cada componente senoidal do nosso sinal será **somada** à fase da resposta em frequência do canal\n",
    "\n",
    "Vamos começar considerando o canal com frequência de corte $f_c = 2$. Como $H(0) = \\dfrac{1}{\\sqrt{1 + \\left(\\dfrac{0}{2}\\right)^2}} = 1$, vamos receber na saída $a_0 \\cdot H(0) = a_0 \\cdot 1= a_0$. Em outras palavras, a componente DC passa pelo nosso canal inalterada:"
   ]
  },
  {
   "cell_type": "code",
   "execution_count": null,
   "metadata": {},
   "outputs": [],
   "source": [
    "fc1 = 2\n",
    "\n",
    "fig = plt.figure()\n",
    "plt.clf()\n",
    "ax1 = fig.add_subplot(1, 2, 1)\n",
    "plt.plot(t, a0*np.ones(len(t)),'-b')\n",
    "plt.title('Componente Transmitida')\n",
    "plt.xlabel('t (s)')\n",
    "plt.grid()\n",
    "ax1 = fig.add_subplot(1, 2, 2)\n",
    "plt.plot(t, a0*modulo_resposta_em_frequencia(0,fc1)*np.ones(len(t)),'-r')\n",
    "plt.title('Componente Recebida')\n",
    "plt.xlabel('t (s)')\n",
    "plt.grid()"
   ]
  },
  {
   "cell_type": "markdown",
   "metadata": {},
   "source": [
    "Vamos analisar agora o que acontece com a componente com a frequência fundamental $f_0 = 1$, dada por $$A_1\\cos(2 \\pi t + \\phi_1) = \\dfrac{1}{\\pi}\\cos(2 \\pi t + 90^{\\circ}) \\approx 0.318\\cos(2 \\pi t + 90^{\\circ})$$ Neste caso, vamos obter:\n",
    "$$H(1) = \\dfrac{1}{\\sqrt{1 + \\left(\\dfrac{1}{2}\\right)^2}} \\approx 0.894$$ e $$\\varphi = - \\arctan\\left(\\dfrac{1}{2}\\right) \\approx 0.464 \\ \\text{radianos ou}\\ 26,7^{\\circ}$$\n",
    "\n",
    "Logo, o que vamos observar na saída será uma onda senoidal dada por $$A_1 \\cdot H(1)\\cdot \\cos[2 \\pi t + \\phi_1 + \\varphi(1)] \\approx 0.285\\cos(2\\pi t + 116,6^{\\circ})$$\n"
   ]
  },
  {
   "cell_type": "code",
   "execution_count": null,
   "metadata": {},
   "outputs": [],
   "source": [
    "fc1 = 2\n",
    "\n",
    "fig = plt.figure()\n",
    "plt.clf()\n",
    "ax1 = fig.add_subplot(1, 2, 1)\n",
    "plt.plot(t, vetor_An[0]*np.cos(2*np.pi*1*f0*t + vetor_phi_n[0]),'-b')\n",
    "plt.title('Componente Transmitida')\n",
    "plt.xlabel('t (s)')\n",
    "plt.axis([t_i, t_f, -0.35, 0.35])\n",
    "plt.grid()\n",
    "ax1 = fig.add_subplot(1, 2, 2)\n",
    "plt.plot(t, vetor_An[0]*modulo_resposta_em_frequencia(f0,fc1)*np.cos(2*np.pi*1*f0*t + vetor_phi_n[0]+ fase_resposta_em_frequencia(f0,fc1)),'-r')\n",
    "plt.title('Componente Recebida')\n",
    "plt.axis([t_i, t_f, -0.35, 0.35])\n",
    "plt.xlabel('t (s)')\n",
    "plt.grid()"
   ]
  },
  {
   "cell_type": "markdown",
   "metadata": {},
   "source": [
    "Seguindo a mesma linha de raciocínio, vamos examinar o que acontece com a segunda harmônica, considerando $f_2 = 2$, dada por $$A_2\\cos(4 \\pi t + \\phi_1) = \\dfrac{1}{2\\pi}\\cos(4 \\pi t + 90^{\\circ}) \\approx 0.159\\cos(4 \\pi t + 90^{\\circ})$$ Neste caso, vamos obter:\n",
    "$$H(2) = \\dfrac{1}{\\sqrt{1 + \\left(\\dfrac{2}{2}\\right)^2}} \\approx 0.707$$ e $$\\varphi = - \\arctan\\left(\\dfrac{2}{2}\\right) \\approx 0.785 \\ \\text{radianos ou}\\ 45^{\\circ}$$\n",
    "\n",
    "Logo, o que vamos observar na saída será uma onda senoidal dada por $$A_2 \\cdot H(2)\\cdot \\cos[4 \\pi t + \\phi_2 + \\varphi(2)] \\approx 0.113\\cos(2\\pi t + 135^{\\circ})$$"
   ]
  },
  {
   "cell_type": "code",
   "execution_count": null,
   "metadata": {},
   "outputs": [],
   "source": [
    "fc1 = 2\n",
    "\n",
    "fig = plt.figure()\n",
    "plt.clf()\n",
    "ax1 = fig.add_subplot(1, 2, 1)\n",
    "plt.plot(t, vetor_An[1]*np.cos(2*np.pi*2*f0*t + vetor_phi_n[1]),'-b')\n",
    "plt.title('Componente Transmitida')\n",
    "plt.xlabel('t (s)')\n",
    "plt.axis([t_i, t_f, -0.35, 0.35])\n",
    "plt.grid()\n",
    "ax1 = fig.add_subplot(1, 2, 2)\n",
    "plt.plot(t, vetor_An[1]*modulo_resposta_em_frequencia(2*f0,fc1)*np.cos(2*np.pi*2*f0*t + vetor_phi_n[1]+ fase_resposta_em_frequencia(2*f0,fc1)),'-r')\n",
    "plt.title('Componente Recebida')\n",
    "plt.axis([t_i, t_f, -0.35, 0.35])\n",
    "plt.xlabel('t (s)')\n",
    "plt.grid()"
   ]
  },
  {
   "cell_type": "markdown",
   "metadata": {},
   "source": [
    "Prosseguindo, vamos passar à análise do que ocorre com a terceira harmônica, considerando $f_3 = 3$, dada por $$A_3\\cos(6 \\pi t + \\phi_3) = \\dfrac{1}{3\\pi}\\cos(6 \\pi t + 90^{\\circ}) \\approx 0.106\\cos(6 \\pi t + 90^{\\circ})$$ Neste caso, vamos obter:\n",
    "$$H(3) = \\dfrac{1}{\\sqrt{1 + \\left(\\dfrac{3}{2}\\right)^2}} \\approx 0.555$$ e $$\\varphi = - \\arctan\\left(\\dfrac{2}{2}\\right) \\approx 0.982 \\ \\text{radianos ou}\\ 56,3^{\\circ}$$\n",
    "\n",
    "Logo, o que vamos observar na saída será uma onda senoidal dada por $$A_3 \\cdot H(3)\\cdot \\cos[6 \\pi t + \\phi_3 + \\varphi(3)] \\approx 0.059 \\cos(2\\pi t + 146,3^{\\circ})$$"
   ]
  },
  {
   "cell_type": "code",
   "execution_count": null,
   "metadata": {},
   "outputs": [],
   "source": [
    "fc1 = 2\n",
    "\n",
    "fig = plt.figure()\n",
    "plt.clf()\n",
    "ax1 = fig.add_subplot(1, 2, 1)\n",
    "plt.plot(t, vetor_An[2]*np.cos(2*np.pi*3*f0*t + vetor_phi_n[2]),'-b')\n",
    "plt.title('Componente Transmitida')\n",
    "plt.xlabel('t (s)')\n",
    "plt.axis([t_i, t_f, -0.35, 0.35])\n",
    "plt.grid()\n",
    "ax1 = fig.add_subplot(1, 2, 2)\n",
    "plt.plot(t, vetor_An[2]*modulo_resposta_em_frequencia(3*f0,fc1)*np.cos(2*np.pi*3*f0*t + vetor_phi_n[2]+ fase_resposta_em_frequencia(3*f0,fc1)),'-r')\n",
    "plt.title('Componente Recebida')\n",
    "plt.axis([t_i, t_f, -0.35, 0.35])\n",
    "plt.xlabel('t (s)')\n",
    "plt.grid()"
   ]
  },
  {
   "cell_type": "markdown",
   "metadata": {},
   "source": [
    "Com base nisso, podemos calcular a amplitude e a fase de cada componente do sinal de saída e plotar o seu espectro. Considerando as $N = 50$ primeiras harmônicas, temos:"
   ]
  },
  {
   "cell_type": "code",
   "execution_count": null,
   "metadata": {},
   "outputs": [],
   "source": [
    "# Cálculo da amplitude e da fase de cada harmônica que compõe o sinal de saíad:\n",
    "\n",
    "N = 50\n",
    "\n",
    "a0_saida = a0*modulo_resposta_em_frequencia(0,fc1)\n",
    "vetor_An_sinal_de_saida = np.zeros(N)\n",
    "vetor_phi_n_sinal_de_saida = np.zeros(N)\n",
    "\n",
    "for n in range(1,N+1):\n",
    "    An_entrada = 1/(np.pi*n)\n",
    "    phi_n_entrada = np.pi/2\n",
    "    vetor_An_sinal_de_saida[n-1] = An_entrada*modulo_resposta_em_frequencia(n*f0,fc1)\n",
    "    vetor_phi_n_sinal_de_saida[n-1] = phi_n_entrada + fase_resposta_em_frequencia(n*f0,fc1)"
   ]
  },
  {
   "cell_type": "markdown",
   "metadata": {},
   "source": [
    "Plotando o resultado:"
   ]
  },
  {
   "cell_type": "code",
   "execution_count": null,
   "metadata": {},
   "outputs": [],
   "source": [
    "f1 = np.arange(f_final+1)\n",
    "\n",
    "fig = plt.figure(figsize=(6,6), dpi= 300)\n",
    "ax1 = fig.add_subplot(2, 1, 1)\n",
    "(markerline, stemlines, baseline) = ax1.stem(f1, np.concatenate((np.asarray([a0_saida]), vetor_An_sinal_de_saida)),'-b', markerfmt=\" \", use_line_collection = True)\n",
    "plt.setp(baseline, visible=False) \n",
    "plt.ylabel('Amplitude')\n",
    "plt.xlabel('f (Hz)')\n",
    "plt.grid()\n",
    "ax2 = fig.add_subplot(2, 1, 2)\n",
    "(markerline, stemlines, baseline) = ax2.stem(f1, (180/np.pi)*np.concatenate((np.asarray([0]), vetor_phi_n_sinal_de_saida)),'-b', markerfmt=\" \", use_line_collection = True)\n",
    "plt.setp(baseline, visible=False) \n",
    "plt.ylabel('Fase ($^\\circ$)')\n",
    "plt.xlabel('f (Hz)')\n",
    "plt.grid()\n",
    "\n",
    "fig.subplots_adjust(hspace=0.7)\n",
    "fig.subplots_adjust(wspace=0.7)"
   ]
  },
  {
   "cell_type": "markdown",
   "metadata": {},
   "source": [
    "Note que o espectro do sinal recebido é **diferente** daquele do sinal emitido, pois o canal está atenuando mais fortemente as componentes com frequência comparativamente mais elevadas. A seguir, os dois espectros são mostrados lado a lado para efeito de comparação."
   ]
  },
  {
   "cell_type": "code",
   "execution_count": null,
   "metadata": {},
   "outputs": [],
   "source": [
    "f1 = np.arange(f_final+1)\n",
    "\n",
    "fig = plt.figure(figsize=(6,6), dpi= 300)\n",
    "ax1 = fig.add_subplot(2, 2, 1)\n",
    "(markerline, stemlines, baseline) = ax1.stem(f1, np.concatenate((np.asarray([a0]), vetor_An)),'-b', markerfmt=\" \", use_line_collection = True)\n",
    "plt.setp(baseline, visible=False) \n",
    "plt.ylabel('Amplitude')\n",
    "plt.xlabel('f (Hz)')\n",
    "plt.grid()\n",
    "plt.title('Sinal Emitido')\n",
    "ax2 = fig.add_subplot(2, 2, 3)\n",
    "(markerline, stemlines, baseline) = ax2.stem(f1, (180/np.pi)*np.concatenate((np.asarray([0]), vetor_phi_n)),'-b', markerfmt=\" \", use_line_collection = True)\n",
    "plt.setp(baseline, visible=False) \n",
    "plt.ylabel('Fase ($^\\circ$)')\n",
    "plt.xlabel('f (Hz)')\n",
    "plt.grid()\n",
    "ax3 = fig.add_subplot(2, 2, 2)\n",
    "(markerline, stemlines, baseline) = ax3.stem(f1, np.concatenate((np.asarray([a0_saida]), vetor_An_sinal_de_saida)),'-r', markerfmt=\" \", use_line_collection = True)\n",
    "plt.setp(baseline, visible=False) \n",
    "plt.ylabel('Amplitude')\n",
    "plt.xlabel('f (Hz)')\n",
    "plt.grid()\n",
    "plt.title('Sinal Recebido')\n",
    "ax4 = fig.add_subplot(2, 2, 4)\n",
    "(markerline, stemlines, baseline) = ax4.stem(f1, (180/np.pi)*np.concatenate((np.asarray([0]), vetor_phi_n_sinal_de_saida)),'-r', markerfmt=\" \", use_line_collection = True)\n",
    "plt.setp(baseline, visible=False) \n",
    "plt.ylabel('Fase ($^\\circ$)')\n",
    "plt.xlabel('f (Hz)')\n",
    "plt.grid()\n",
    "\n",
    "fig.subplots_adjust(hspace=0.4)\n",
    "fig.subplots_adjust(wspace=0.7)"
   ]
  },
  {
   "cell_type": "markdown",
   "metadata": {},
   "source": [
    "### Assim como o sinal emitido é o somatório das várias ondas senoidais que encontramos utilizando a Análise de Fourier, o sinao recebido é o somatório das várias ondas senoidais que encontramos agora há pouco, cada uma afetada de uma determinada maneira pelo canal de comunicação###"
   ]
  },
  {
   "cell_type": "markdown",
   "metadata": {},
   "source": [
    "Por exemplo, se somarmos até a terceira harmônica, obteríamos as seguintes aproximações para o sinal de entrada e para o sinal de saída:"
   ]
  },
  {
   "cell_type": "code",
   "execution_count": null,
   "metadata": {},
   "outputs": [],
   "source": [
    "a0 = 0.5\n",
    "\n",
    "\n",
    "\n",
    "x_fourier = a0*np.ones(len(t))\n",
    "y_fourier = a0_saida*np.ones(len(t))\n",
    "\n",
    "\n",
    "\n",
    "fig = plt.figure()\n",
    "ax = fig.add_subplot(1, 1, 1)\n",
    "plot1,= plt.plot(t, x_fourier,'-b')\n",
    "plot2,= plt.plot(t, y_fourier,'-r')\n",
    "plt.title('Entrada e Saída do Canal (Até a 3ª Harmônica)')\n",
    "plt.legend([plot1,plot2],[\"Emitido\", \"Recebido\"], loc = 'upper left')\n",
    "plt.xlabel('t (s)')\n",
    "plt.grid()\n",
    "\n",
    "N = 3\n",
    "\n",
    "for n in range(1,N+1):\n",
    "    x_fourier = x_fourier + vetor_An[n-1]*np.cos(2*np.pi*n*f0*t + vetor_phi_n[n-1])\n",
    "    print(vetor_An[n-1])\n",
    "    y_fourier = y_fourier + vetor_An_sinal_de_saida[n-1]*np.cos(2*np.pi*n*f0*t + vetor_phi_n_sinal_de_saida[n-1])\n",
    "    fig = plt.figure()\n",
    "    ax = fig.add_subplot(1, 1, 1)\n",
    "    plot1,= plt.plot(t, x_fourier,'-b')\n",
    "    plot2,= plt.plot(t, y_fourier,'-r')\n",
    "    plt.title('Entrada e Saída do Canal (Até a 3ª Harmônica)')\n",
    "    plt.legend([plot1,plot2],[\"Emitido\", \"Recebido\"], loc = 'upper left')\n",
    "    plt.xlabel('t (s)')\n",
    "    plt.grid()"
   ]
  },
  {
   "cell_type": "markdown",
   "metadata": {},
   "source": [
    "Em geral, para procurar compreender o efeito de um canal, considerar apenas até a terceira harmônica não é suficiente. Vamos reproduzir o cálculo acima, mas agora considerando as 50 primeiras harmônicas:"
   ]
  },
  {
   "cell_type": "code",
   "execution_count": null,
   "metadata": {},
   "outputs": [],
   "source": [
    "a0 = 0.5\n",
    "\n",
    "fc1 = 2\n",
    "\n",
    "f0 = 1\n",
    "\n",
    "\n",
    "\n",
    "y1 = a0_saida*np.ones(len(t))\n",
    "\n",
    "N = 50\n",
    "\n",
    "for n in range(1,N+1):\n",
    "    y1 = y1 + vetor_An_sinal_de_saida[n-1]*np.cos(2*np.pi*n*f0*t + vetor_phi_n_sinal_de_saida[n-1])\n",
    "\n",
    "    \n",
    "fig = plt.figure()\n",
    "ax = fig.add_subplot(1, 1, 1)\n",
    "plot1, = plt.plot(t, x,'-b')\n",
    "plot2, = plt.plot(t, y1,'-r')\n",
    "plt.title('Entrada e Saída do Canal')\n",
    "plt.legend([plot1,plot2],[\"Emitido\", \"Recebido\"], loc = 'upper left')\n",
    "plt.xlabel('t (s)')\n",
    "plt.grid()"
   ]
  },
  {
   "cell_type": "markdown",
   "metadata": {},
   "source": [
    "Note que o sinal recebido é claramente distinto do emitido. Como estamos tentando transmitir o sinal azul por um canal **passa-baixas**, as variações mais rápidas do sinal (associada às componentes de alta frequência) tendem a ser **suavizadas**"
   ]
  },
  {
   "cell_type": "markdown",
   "metadata": {},
   "source": [
    "E se tentássemos transmitir esse mesmo sinal azul, mas agora por um canal passa-baixas com frequência de corte $f_c = 20$?\n",
    "\n",
    "Neste caso, o efeito do canal sobre as componentes analisadas mais cedo será menos intenso. Por exemplo, com $f_c = 20$, obtemos:\n",
    "\n",
    "$$H(1) \\approx 0,999 \\quad \\text{e}\\quad \\varphi(1) \\approx 2,9^{\\circ}$$\n",
    "\n",
    "$$H(2) \\approx 0,995 \\quad \\text{e}\\quad \\varphi(2) \\approx 5,7^{\\circ}$$\n",
    "\n",
    "$$H(3) \\approx 0,989 \\quad \\text{e}\\quad \\varphi(3) \\approx 8,5^{\\circ}$$\n"
   ]
  },
  {
   "cell_type": "code",
   "execution_count": null,
   "metadata": {},
   "outputs": [],
   "source": [
    "fc2 = 20\n",
    "\n",
    "f0 = 1\n",
    "\n",
    "fig = plt.figure()\n",
    "ax1 = fig.add_subplot(1, 2, 1)\n",
    "plt.plot(t, a0*np.ones(len(t)),'-b')\n",
    "plt.title('Transmitida (DC)')\n",
    "plt.xlabel('t (s)')\n",
    "plt.grid()\n",
    "ax1 = fig.add_subplot(1, 2, 2)\n",
    "plt.plot(t, a0*modulo_resposta_em_frequencia(0,fc2)*np.ones(len(t)),'-r')\n",
    "plt.title('Recebida (DC)')\n",
    "plt.xlabel('t (s)')\n",
    "plt.grid()\n",
    "\n",
    "fig = plt.figure()\n",
    "ax1 = fig.add_subplot(1, 2, 1)\n",
    "plt.plot(t, vetor_An[0]*np.cos(2*np.pi*1*f0*t + vetor_phi_n[0]),'-b')\n",
    "plt.title('Transmitida (Fundamental)')\n",
    "plt.xlabel('t (s)')\n",
    "plt.axis([t_i, t_f, -0.35, 0.35])\n",
    "plt.grid()\n",
    "ax1 = fig.add_subplot(1, 2, 2)\n",
    "plt.plot(t, vetor_An[0]*modulo_resposta_em_frequencia(f0,fc2)*np.cos(2*np.pi*1*f0*t + vetor_phi_n[0]+ fase_resposta_em_frequencia(f0,fc2)),'-r')\n",
    "plt.title('Recebida (Fundamental)')\n",
    "plt.axis([t_i, t_f, -0.35, 0.35])\n",
    "plt.xlabel('t (s)')\n",
    "plt.grid()\n",
    "\n",
    "fig = plt.figure()\n",
    "ax1 = fig.add_subplot(1, 2, 1)\n",
    "plt.plot(t, vetor_An[1]*np.cos(2*np.pi*2*f0*t + vetor_phi_n[1]),'-b')\n",
    "plt.title('Transmitida (2ª Harmônica)')\n",
    "plt.xlabel('t (s)')\n",
    "plt.axis([t_i, t_f, -0.35, 0.35])\n",
    "plt.grid()\n",
    "ax1 = fig.add_subplot(1, 2, 2)\n",
    "plt.plot(t, vetor_An[1]*modulo_resposta_em_frequencia(2*f0,fc2)*np.cos(2*np.pi*2*f0*t + vetor_phi_n[1]+ fase_resposta_em_frequencia(2*f0,fc2)),'-r')\n",
    "plt.title('Recebida (2ª Harmônica)')\n",
    "plt.axis([t_i, t_f, -0.35, 0.35])\n",
    "plt.xlabel('t (s)')\n",
    "plt.grid()\n",
    "\n",
    "fig = plt.figure()\n",
    "ax1 = fig.add_subplot(1, 2, 1)\n",
    "plt.plot(t, vetor_An[2]*np.cos(2*np.pi*3*f0*t + vetor_phi_n[2]),'-b')\n",
    "plt.title('Transmitida (3ª Harmônica)')\n",
    "plt.xlabel('t (s)')\n",
    "plt.axis([t_i, t_f, -0.35, 0.35])\n",
    "plt.grid()\n",
    "ax1 = fig.add_subplot(1, 2, 2)\n",
    "plt.plot(t, vetor_An[2]*modulo_resposta_em_frequencia(3*f0,fc2)*np.cos(2*np.pi*3*f0*t + vetor_phi_n[2]+ fase_resposta_em_frequencia(3*f0,fc2)),'-r')\n",
    "plt.title('Recebida (3ª Harmônica)')\n",
    "plt.axis([t_i, t_f, -0.35, 0.35])\n",
    "plt.xlabel('t (s)')\n",
    "plt.grid()"
   ]
  },
  {
   "cell_type": "markdown",
   "metadata": {},
   "source": [
    "Consequentemente, ao transmitir o sinal azul pelo canal com frequência de corte $f_c = 20$, ele chegará muito menos *distorcido* ao receptor:"
   ]
  },
  {
   "cell_type": "code",
   "execution_count": null,
   "metadata": {},
   "outputs": [],
   "source": [
    "a0 = 0.5\n",
    "\n",
    "fc2 = 20\n",
    "\n",
    "y2 = a0*modulo_resposta_em_frequencia(0,fc2)*np.ones(len(t))\n",
    "\n",
    "N = 50\n",
    "\n",
    "vetor_An = np.zeros(N)\n",
    "vetor_phi_n = np.zeros(N)\n",
    "\n",
    "for n in range(1,N+1):\n",
    "    An = 1/(np.pi*n)\n",
    "    phi_n = np.pi/2\n",
    "    vetor_An[n-1] = An\n",
    "    vetor_phi_n[n-1] = phi_n\n",
    "    y2 = y2 + An*modulo_resposta_em_frequencia(n*f0,fc2)*np.cos(2*np.pi*n*f0*t + phi_n + fase_resposta_em_frequencia(n*f0,fc2))\n",
    "\n",
    "fig = plt.figure()\n",
    "ax = fig.add_subplot(1, 1, 1)\n",
    "plot1, = plt.plot(t, x,'-b')\n",
    "plot2, = plt.plot(t, y2,'-r')\n",
    "plt.title('Entrada e Saída do Canal')\n",
    "plt.legend([plot1,plot2],[\"Emitido\", \"Recebido\"], loc = 'upper left')\n",
    "plt.xlabel('t (s)')\n",
    "plt.grid()"
   ]
  },
  {
   "cell_type": "markdown",
   "metadata": {},
   "source": [
    "Por fim, o que aconteceria se tentássemos transmitir agora um sinal com frequência fundamental $f_0 = 100$ por meio do canal com frequência de corte $f_c = 2$?"
   ]
  },
  {
   "cell_type": "code",
   "execution_count": null,
   "metadata": {},
   "outputs": [],
   "source": [
    "a0 = 0.5\n",
    "\n",
    "f0 = 100\n",
    "\n",
    "t_i = -0.03\n",
    "t_f = 0.03\n",
    "\n",
    "t = -np.arange(t_i,t_f,passo)\n",
    "\n",
    "x = dc + 0.5*signal.sawtooth(2*np.pi*f0*t)\n",
    "\n",
    "fc1 = 2\n",
    "\n",
    "y1 = a0*modulo_resposta_em_frequencia(0,fc1)*np.ones(len(t))\n",
    "\n",
    "N = 50\n",
    "\n",
    "vetor_An = np.zeros(N)\n",
    "vetor_phi_n = np.zeros(N)\n",
    "\n",
    "for n in range(1,N+1):\n",
    "    An = 1/(np.pi*n)\n",
    "    phi_n = np.pi/2\n",
    "    vetor_An[n-1] = An\n",
    "    vetor_phi_n[n-1] = phi_n\n",
    "    y1 = y1 + An*modulo_resposta_em_frequencia(n*f0,fc1)*np.cos(2*np.pi*n*f0*t + phi_n + fase_resposta_em_frequencia(n*f0,fc1))\n",
    "\n",
    "fig = plt.figure()\n",
    "ax = fig.add_subplot(1, 1, 1)\n",
    "plot1, = plt.plot(t, x,'-b')\n",
    "plot2, = plt.plot(t, y1,'-r')\n",
    "plt.title('Entrada e Saída do Canal')\n",
    "plt.legend([plot1,plot2],[\"Emitido\", \"Recebido\"], loc = 'upper left')\n",
    "plt.xlabel('t (s)')\n",
    "plt.grid()"
   ]
  },
  {
   "cell_type": "markdown",
   "metadata": {},
   "source": [
    "Neste caso, mesmo a componente fundamental é muito atenuada pelo canal. Afinal, com $f_c = 2 Hz$, temos que $H(100) \\approx 0,02$. Com isso, o sinal recebido na outra ponta é praticamente dado pela componente cosntante (que não é atenuada pois $H(0) = 1$)"
   ]
  },
  {
   "cell_type": "code",
   "execution_count": null,
   "metadata": {},
   "outputs": [],
   "source": []
  }
 ],
 "metadata": {
  "kernelspec": {
   "display_name": "Python 3 (ipykernel)",
   "language": "python",
   "name": "python3"
  },
  "language_info": {
   "codemirror_mode": {
    "name": "ipython",
    "version": 3
   },
   "file_extension": ".py",
   "mimetype": "text/x-python",
   "name": "python",
   "nbconvert_exporter": "python",
   "pygments_lexer": "ipython3",
   "version": "3.11.5"
  }
 },
 "nbformat": 4,
 "nbformat_minor": 4
}
